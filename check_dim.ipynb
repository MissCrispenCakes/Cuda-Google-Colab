{
  "nbformat": 4,
  "nbformat_minor": 0,
  "metadata": {
    "colab": {
      "name": "check_dim.ipynb",
      "provenance": [],
      "collapsed_sections": []
    },
    "kernelspec": {
      "name": "python3",
      "display_name": "Python 3"
    },
    "language_info": {
      "name": "python"
    },
    "accelerator": "GPU"
  },
  "cells": [
    {
      "cell_type": "code",
      "source": [
        "# To show that if there is cuda tookit installed\n",
        "!ls /usr/local"
      ],
      "metadata": {
        "id": "FJNaVYXrsyX1",
        "colab": {
          "base_uri": "https://localhost:8080/"
        },
        "outputId": "cd2853ec-80fd-4f20-9109-a49ac0502937"
      },
      "execution_count": 38,
      "outputs": [
        {
          "output_type": "stream",
          "name": "stdout",
          "text": [
            "bin\t   cuda-10.1  cuda-11.1  _gcs_config_ops.so  licensing\tshare\n",
            "cuda\t   cuda-11    etc\t include\t     man\tsrc\n",
            "cuda-10.0  cuda-11.0  games\t lib\t\t     sbin\txgboost\n"
          ]
        }
      ]
    },
    {
      "cell_type": "code",
      "source": [
        "# To show that if we have the nvcc command\n",
        "!which nvcc"
      ],
      "metadata": {
        "id": "EWeDREa1tIGH",
        "colab": {
          "base_uri": "https://localhost:8080/"
        },
        "outputId": "f11a509c-f49c-43db-cd24-3ba96694f70f"
      },
      "execution_count": 39,
      "outputs": [
        {
          "output_type": "stream",
          "name": "stdout",
          "text": [
            "/usr/local/cuda/bin/nvcc\n"
          ]
        }
      ]
    },
    {
      "cell_type": "code",
      "source": [
        "# To show the property of the nvidia card(On my one, I use the K80)\n",
        "!nvidia-smi"
      ],
      "metadata": {
        "id": "hctj5aYxtSwK",
        "colab": {
          "base_uri": "https://localhost:8080/"
        },
        "outputId": "a3351320-6577-49c0-de59-bb772f09cbcc"
      },
      "execution_count": 40,
      "outputs": [
        {
          "output_type": "stream",
          "name": "stdout",
          "text": [
            "Tue Apr  5 11:35:57 2022       \n",
            "+-----------------------------------------------------------------------------+\n",
            "| NVIDIA-SMI 460.32.03    Driver Version: 460.32.03    CUDA Version: 11.2     |\n",
            "|-------------------------------+----------------------+----------------------+\n",
            "| GPU  Name        Persistence-M| Bus-Id        Disp.A | Volatile Uncorr. ECC |\n",
            "| Fan  Temp  Perf  Pwr:Usage/Cap|         Memory-Usage | GPU-Util  Compute M. |\n",
            "|                               |                      |               MIG M. |\n",
            "|===============================+======================+======================|\n",
            "|   0  Tesla K80           Off  | 00000000:00:04.0 Off |                    0 |\n",
            "| N/A   31C    P8    29W / 149W |      0MiB / 11441MiB |      0%      Default |\n",
            "|                               |                      |                  N/A |\n",
            "+-------------------------------+----------------------+----------------------+\n",
            "                                                                               \n",
            "+-----------------------------------------------------------------------------+\n",
            "| Processes:                                                                  |\n",
            "|  GPU   GI   CI        PID   Type   Process name                  GPU Memory |\n",
            "|        ID   ID                                                   Usage      |\n",
            "|=============================================================================|\n",
            "|  No running processes found                                                 |\n",
            "+-----------------------------------------------------------------------------+\n"
          ]
        }
      ]
    },
    {
      "cell_type": "code",
      "source": [
        "# Write a cu file contain the host and kernel code\n",
        "%%writefile check_dim.cu\n",
        "\n",
        "#include <cuda_runtime.h>\n",
        "#include <stdio.h>\n",
        "__global__ void checkIndex(void)\n",
        "{\n",
        "  // gridDim is for the BlockIdx, blockDim is for the threadIdx.\n",
        "  printf(\"threadIdx:(%d,%d,%d) blockIdx:(%d,%d,%d) blockDim:(%d,%d,%d)\\\n",
        "  gridDim(%d,%d,%d)\\n\",threadIdx.x,threadIdx.y,threadIdx.z,\n",
        "  blockIdx.x,blockIdx.y,blockIdx.z,blockDim.x,blockDim.y,blockDim.z,\n",
        "  gridDim.x,gridDim.y,gridDim.z);\n",
        "}\n",
        "int main(int argc,char **argv)\n",
        "{\n",
        "  int nElem=6;\n",
        "  dim3 block(3);\n",
        "  // block.x = 3, the following line is grid(2) \n",
        "  dim3 grid((nElem+block.x-1)/block.x);\n",
        "  printf(\"grid.x %d grid.y %d grid.z %d\\n\",grid.x,grid.y,grid.z);\n",
        "  printf(\"block.x %d block.y %d block.z %d\\n\",block.x,block.y,block.z);\n",
        "  checkIndex<<<grid,block>>>();\n",
        "  cudaDeviceReset();\n",
        "  return 0;\n",
        "}"
      ],
      "metadata": {
        "colab": {
          "base_uri": "https://localhost:8080/"
        },
        "id": "OmQ-PLNKhX2f",
        "outputId": "4219494e-3bb4-44d8-c59e-73f1cccb82e2"
      },
      "execution_count": 41,
      "outputs": [
        {
          "output_type": "stream",
          "name": "stdout",
          "text": [
            "Overwriting check_dim.cu\n"
          ]
        }
      ]
    },
    {
      "cell_type": "code",
      "source": [
        "# Compile the code. The flag is needed if you use the Tesla K80.  \n",
        "!nvcc -arch=sm_37 -gencode=arch=compute_37,code=sm_37 check_dim.cu -o check_dim"
      ],
      "metadata": {
        "id": "7wTtatxRtii9",
        "colab": {
          "base_uri": "https://localhost:8080/"
        },
        "outputId": "45361ccd-7011-4b69-c46a-dbb3721e3099"
      },
      "execution_count": 42,
      "outputs": [
        {
          "output_type": "stream",
          "name": "stdout",
          "text": [
            "nvcc warning : The 'compute_35', 'compute_37', 'compute_50', 'sm_35', 'sm_37' and 'sm_50' architectures are deprecated, and may be removed in a future release (Use -Wno-deprecated-gpu-targets to suppress warning).\n"
          ]
        }
      ]
    },
    {
      "cell_type": "code",
      "source": [
        "!./check_dim"
      ],
      "metadata": {
        "id": "fMTrRs5XujfU",
        "colab": {
          "base_uri": "https://localhost:8080/"
        },
        "outputId": "e2106b00-07ad-4bf8-dae0-b752e10efb7d"
      },
      "execution_count": 43,
      "outputs": [
        {
          "output_type": "stream",
          "name": "stdout",
          "text": [
            "grid.x 2 grid.y 1 grid.z 1\n",
            "block.x 3 block.y 1 block.z 1\n",
            "threadIdx:(0,0,0) blockIdx:(1,0,0) blockDim:(3,1,1)  gridDim(2,1,1)\n",
            "threadIdx:(1,0,0) blockIdx:(1,0,0) blockDim:(3,1,1)  gridDim(2,1,1)\n",
            "threadIdx:(2,0,0) blockIdx:(1,0,0) blockDim:(3,1,1)  gridDim(2,1,1)\n",
            "threadIdx:(0,0,0) blockIdx:(0,0,0) blockDim:(3,1,1)  gridDim(2,1,1)\n",
            "threadIdx:(1,0,0) blockIdx:(0,0,0) blockDim:(3,1,1)  gridDim(2,1,1)\n",
            "threadIdx:(2,0,0) blockIdx:(0,0,0) blockDim:(3,1,1)  gridDim(2,1,1)\n"
          ]
        }
      ]
    }
  ]
}